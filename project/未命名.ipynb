{
 "cells": [
  {
   "cell_type": "code",
   "execution_count": null,
   "id": "3229d8fd-4cee-4a63-a7f2-5ab7633ca820",
   "metadata": {},
   "outputs": [],
   "source": [
    "import streamlit as st"
   ]
  },
  {
   "cell_type": "code",
   "execution_count": null,
   "id": "5f03569a-6622-441b-bff5-b33f0d376ba0",
   "metadata": {},
   "outputs": [],
   "source": [
    "from llama_cpp import Llama\n",
    "from langchain_nvidia_ai_endpoints import ChatNVIDIA, NVIDIAEmbeddings\n",
    "import os\n",
    "from langchain.text_splitter import CharacterTextSplitter\n",
    "from langchain_community.vectorstores import Chroma\n",
    "from langchain_community.vectorstores import FAISS\n",
    "import numpy as np\n",
    "from langchain.chat_models import ChatOpenAI\n",
    "from langchain.prompts import PromptTemplate\n",
    "from typing import List\n",
    "from langchain.schema import Document\n",
    "import base64\n",
    "import matplotlib.pyplot as plt\n",
    "import re\n",
    "import check\n",
    "\n",
    "llm = Llama(\"/home/nvidia/aws_hackathon_demo/model/Llama-3.1-8b-chinese-Q4_K_M.gguf\", flash_attn=True, n_gpu_layers=-1)\n",
    "\n",
    "\n",
    "prompt_template = PromptTemplate(\n",
    "    template=\"你是一名笔记本销售顾问，用户正在寻找购买笔记本的建议。请基于以下信息回答问题：\\n\\n{context}\\n\\n用户的问题：{query}\\n\\n直接给出回答，不要说出思考逻辑，使用中文回答问题：\",\n",
    "    input_variables=[\"context\", \"query\"]\n",
    ")\n",
    "response = self.llm.invoke(prompt_template.format(context='我是谁', query='电脑怎么买'))\n",
    "\n",
    "\n",
    "def predict(message, history):\n",
    "    messages = []\n",
    "\n",
    "    for user_message, assistant_message in history:\n",
    "        messages.append({\"role\": \"user\", \"content\": user_message})\n",
    "        messages.append({\"role\": \"assistant\", \"content\": assistant_message})\n",
    "\n",
    "    messages.append({\"role\": \"user\", \"content\": message})\n",
    "\n",
    "    text = \"\"\n",
    "\n",
    "    # response = [{\"choices\": [{\"delta\": {\"content\": \"text1\"}}]}, {\"choices\": [{\"delta\": {\"content\": \"text2\"}}]}]\n",
    "    response = llm.create_chat_completion(\n",
    "         messages=messages, stream=True\n",
    "    )\n",
    "    for chunk in response:\n",
    "        content = chunk[\"choices\"][0][\"delta\"]\n",
    "        if \"content\" in content:\n",
    "            text = content[\"content\"]\n",
    "            yield text\n",
    "\n",
    "\n",
    "\n",
    "\n",
    "\n",
    "# message=\"你是一只可爱的小猫咪\"\n",
    "\n",
    "# history = [[\"\", \"\"]]\n",
    "\n",
    "# for out in predict(message, history):\n",
    "#     print(out, end='')"
   ]
  },
  {
   "cell_type": "code",
   "execution_count": 2,
   "id": "01f6adf9-417d-44f0-ae87-e7d998710785",
   "metadata": {},
   "outputs": [
    {
     "name": "stderr",
     "output_type": "stream",
     "text": [
      "/home/nvidia/.local/lib/python3.8/site-packages/langchain_nvidia_ai_endpoints/_common.py:492: UserWarning: Found qwen/qwen2.5-coder-32b-instruct in available_models, but type is unknown and inference may fail.\n",
      "  warnings.warn(\n",
      "/home/nvidia/.local/lib/python3.8/site-packages/langchain_nvidia_ai_endpoints/_common.py:492: UserWarning: Found baai/bge-m3 in available_models, but type is unknown and inference may fail.\n",
      "  warnings.warn(\n",
      "/home/nvidia/.local/lib/python3.8/site-packages/langchain_nvidia_ai_endpoints/_statics.py:545: UserWarning: Model ai-embed-qa-4 is deprecated. Using NV-Embed-QA instead.\n",
      "  warnings.warn(\n",
      "/home/nvidia/.local/lib/python3.8/site-packages/langchain_nvidia_ai_endpoints/_common.py:492: UserWarning: Found nvidia/llama-3.1-nemoguard-8b-topic-control in available_models, but type is unknown and inference may fail.\n",
      "  warnings.warn(\n",
      "/home/nvidia/.local/lib/python3.8/site-packages/langchain_nvidia_ai_endpoints/_common.py:492: UserWarning: Found nvidia/llama-3.1-nemoguard-8b-content-safety in available_models, but type is unknown and inference may fail.\n",
      "  warnings.warn(\n"
     ]
    },
    {
     "name": "stdout",
     "output_type": "stream",
     "text": [
      "欢迎你来购买游戏本电脑！根据你提供的信息，你想使用国补购买笔记本，还有一个关键是游戏性能。基于这台火影 Bright16 Air的特点，它可以说是一款不错的游戏本电脑。\n",
      "\n",
      "此机器的HW配置很强，带着RTX 4060独立显卡，可以说是游戏性能的保障。虽然之前提到过这个机器的模块化设计存在一些缺点，但是对游戏性能影响不大。\n",
      "\n",
      "另外，修正工艺的23.8英寸IPS屏幕也非常适合游戏，100%sRGB色域和240Hz刷新率的结合，可以说是游戏的一大 thuận lợi。\n",
      "\n",
      "总的来说，如果你想购买一台游戏本电脑，同时使用国补，火影 Bright16 Air是一个不错的选择。相比之下，参考售价6999元也还算合理。\n"
     ]
    }
   ],
   "source": [
    "%run RAG_TEST.py"
   ]
  },
  {
   "cell_type": "code",
   "execution_count": null,
   "id": "74bdbf68-eacc-4171-b9a1-b47681ef88d9",
   "metadata": {},
   "outputs": [],
   "source": []
  }
 ],
 "metadata": {
  "kernelspec": {
   "display_name": "Python 3 (ipykernel)",
   "language": "python",
   "name": "python3"
  },
  "language_info": {
   "codemirror_mode": {
    "name": "ipython",
    "version": 3
   },
   "file_extension": ".py",
   "mimetype": "text/x-python",
   "name": "python",
   "nbconvert_exporter": "python",
   "pygments_lexer": "ipython3",
   "version": "3.8.10"
  }
 },
 "nbformat": 4,
 "nbformat_minor": 5
}
